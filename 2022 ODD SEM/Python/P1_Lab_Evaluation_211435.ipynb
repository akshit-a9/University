{
  "nbformat": 4,
  "nbformat_minor": 0,
  "metadata": {
    "colab": {
      "provenance": []
    },
    "kernelspec": {
      "name": "python3",
      "display_name": "Python 3"
    },
    "language_info": {
      "name": "python"
    }
  },
  "cells": [
    {
      "cell_type": "code",
      "execution_count": null,
      "metadata": {
        "colab": {
          "base_uri": "https://localhost:8080/"
        },
        "id": "2mpBC9Nf7uRW",
        "outputId": "cf59cab0-0288-4b6f-f2e8-50e9dd0e885b"
      },
      "outputs": [
        {
          "output_type": "stream",
          "name": "stdout",
          "text": [
            "Enter the number of rows : 5\n",
            "Enter the number of columns : 5\n",
            "Enter 5 elements for 5 rows separated by spaces = 0 0 0 1 1 0 0 1 1 1 0 0 0 0 0 0 1 1 1 1 0 0 0 0 1\n",
            "4\n"
          ]
        }
      ],
      "source": [
        "'''Given a binary `M × N` row-wise sorted matrix, find a row that contains the maximum number of 1’s in\n",
        "linear time.\n",
        "Input:\n",
        "[\n",
        "[0, 0, 0, 1, 1],\n",
        "[0, 0, 1, 1, 1],\n",
        "[0, 0, 0, 0, 0],\n",
        "[0, 1, 1, 1, 1],\n",
        "[0, 0, 0, 0, 1]\n",
        "]'''\n",
        "\n",
        "\n",
        "rows = int(input('Enter the number of rows : '))\n",
        "columns = int(input('Enter the number of columns : '))\n",
        "\n",
        "li = [\n",
        "[0, 0, 0, 1, 1],\n",
        "[0, 0, 1, 1, 1],\n",
        "[0, 0, 0, 0, 0],\n",
        "[0, 1, 1, 1, 1],\n",
        "[0, 0, 0, 0, 1]\n",
        "]\n",
        "\n",
        "#li = list(map(int, input('Enter {'+str(columns)+'} elements for {'+str(rows)+'} rows separated by spaces = ').split()))\n",
        "max = 0\n",
        "for i in range(rows):\n",
        "  count = 0\n",
        "  for j in range(columns):\n",
        "    if li[i][j] == 1:\n",
        "      count+=1\n",
        "  if max<count:\n",
        "    max = count\n",
        "    maxpos = i+1\n",
        "\n",
        "print(maxpos)\n"
      ]
    },
    {
      "cell_type": "code",
      "source": [
        "'''Given a string, find all distinct lexicographic permutations of it where the repetition of characters is\n",
        "allowed.\n",
        "Input : \"AAB\"\n",
        "Output: {\"AAA\", \"AAB\", \"ABA, \"ABB\", \"BAA\", \"BAB\", \"BBA\", \"BBB\"}'''\n",
        "\n",
        "str = input('Enter a String ')\n",
        "l = len(str)\n",
        "\n",
        "for i in range(l):\n",
        "  print(str[i] * l)\n",
        "  if i<(l-1):\n",
        "    for i in range(l):\n",
        "      print(str[i],end = \"\")\n",
        "      print(str[l-i-1], end = \"\")\n",
        "      print(str[l-1])\n",
        "\n"
      ],
      "metadata": {
        "colab": {
          "base_uri": "https://localhost:8080/"
        },
        "id": "C6MWV8L3C9SM",
        "outputId": "f259c78e-d723-4007-c2ed-29d0e895dfd5"
      },
      "execution_count": null,
      "outputs": [
        {
          "output_type": "stream",
          "name": "stdout",
          "text": [
            "Enter a String AAB\n",
            "AAA\n",
            "ABB\n",
            "AAB\n",
            "BAB\n",
            "AAA\n",
            "ABB\n",
            "AAB\n",
            "BAB\n",
            "BBB\n"
          ]
        }
      ]
    }
  ]
}