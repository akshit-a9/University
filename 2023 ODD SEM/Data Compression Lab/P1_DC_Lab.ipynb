{
  "nbformat": 4,
  "nbformat_minor": 0,
  "metadata": {
    "colab": {
      "provenance": []
    },
    "kernelspec": {
      "name": "python3",
      "display_name": "Python 3"
    },
    "language_info": {
      "name": "python"
    }
  },
  "cells": [
    {
      "cell_type": "code",
      "execution_count": null,
      "metadata": {
        "colab": {
          "base_uri": "https://localhost:8080/"
        },
        "id": "9J7RDDmsSK4p",
        "outputId": "422de69b-c52a-4030-9096-a7c4ebc6d805"
      },
      "outputs": [
        {
          "output_type": "stream",
          "name": "stdout",
          "text": [
            "Enter the coded string: 110111011111011000010\n",
            "Decoded string: ddcbeaab\n"
          ]
        }
      ],
      "source": [
        "huff_dict = {\n",
        "    \"0\": \"a\",\n",
        "    \"10\": \"b\",\n",
        "    \"111\": \"c\",\n",
        "    \"1101\": \"d\",\n",
        "    \"1100\": \"e\"\n",
        "}\n",
        "\n",
        "def decode_string(encoded_string):\n",
        "    decoded_string = \"\"\n",
        "    while encoded_string:\n",
        "        for code in huff_dict:\n",
        "            if encoded_string.startswith(code):\n",
        "                decoded_string += huff_dict[code]\n",
        "                encoded_string = encoded_string[len(code):]\n",
        "                break\n",
        "    return decoded_string\n",
        "\n",
        "coded_string = input(\"Enter the coded string: \")\n",
        "decoded_result = decode_string(coded_string)\n",
        "print(\"Decoded string:\", decoded_result)\n"
      ]
    }
  ]
}