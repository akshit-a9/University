{
 "cells": [
  {
   "cell_type": "code",
   "execution_count": 1,
   "metadata": {},
   "outputs": [
    {
     "name": "stdout",
     "output_type": "stream",
     "text": [
      "\n",
      "Encrypted Text: uvstfdmtbwbfwgwlzbrjlb\n",
      "Decrypted Text: informationsecuritylab\n"
     ]
    }
   ],
   "source": [
    "#alternatively,\n",
    "\n",
    "def encrypt(plaintext, key):\n",
    "    result = \"\"\n",
    "    key_stream = key + plaintext\n",
    "\n",
    "    for i in range(len(plaintext)):\n",
    "        char = plaintext[i]\n",
    "        if char.isalpha():\n",
    "            base = ord('A') if char.isupper() else ord('a')\n",
    "            result += chr((ord(char) - base + ord(key_stream[i]) - base) % 26 + base)\n",
    "        else:\n",
    "            result += char\n",
    "\n",
    "    return result\n",
    "\n",
    "def decrypt(ciphertext, key):\n",
    "    result = \"\"\n",
    "\n",
    "    for i in range(len(ciphertext)):\n",
    "        char = ciphertext[i]\n",
    "        if char.isalpha():\n",
    "            base = ord('A') if char.isupper() else ord('a')\n",
    "            result += chr((ord(char) - ord(key[i]) + 26) % 26 + base)\n",
    "            key += result[i]\n",
    "        else:\n",
    "            result += char\n",
    "\n",
    "    return result\n",
    "\n",
    "def main():\n",
    "    plaintext = input(\"Enter the plaintext: \")\n",
    "    key = input(\"Enter the key word or phrase: \")\n",
    "\n",
    "    ciphertext = encrypt(plaintext, key)\n",
    "    decrypted_text = decrypt(ciphertext, key)\n",
    "\n",
    "    print(\"\\nEncrypted Text:\", ciphertext)\n",
    "    print(\"Decrypted Text:\", decrypted_text)\n",
    "\n",
    "if __name__ == \"__main__\":\n",
    "    main()"
   ]
  }
 ],
 "metadata": {
  "kernelspec": {
   "display_name": "Python 3",
   "language": "python",
   "name": "python3"
  },
  "language_info": {
   "codemirror_mode": {
    "name": "ipython",
    "version": 3
   },
   "file_extension": ".py",
   "mimetype": "text/x-python",
   "name": "python",
   "nbconvert_exporter": "python",
   "pygments_lexer": "ipython3",
   "version": "3.11.8"
  }
 },
 "nbformat": 4,
 "nbformat_minor": 2
}
