{
 "cells": [
  {
   "cell_type": "code",
   "execution_count": 1,
   "metadata": {},
   "outputs": [
    {
     "name": "stdout",
     "output_type": "stream",
     "text": [
      "mtmtcmsalhrdy\n"
     ]
    }
   ],
   "source": [
    "#Encryption\n",
    "a = input(\"Enter the string : \")\n",
    "b = int(input(\"Enter the key : \"))\n",
    "key = b%26\n",
    "b = b%26\n",
    "\n",
    "encrypted = str()\n",
    "count = 0\n",
    "\n",
    "for ch in a:\n",
    "  # print(ord(ch))\n",
    "  if ch.isspace():\n",
    "    encrypted += ' '\n",
    "    continue\n",
    "  if ch.isupper():\n",
    "    if count == 0:\n",
    "      b = (b + ((ord(ch))-65))%26\n",
    "    else:\n",
    "      b = ((ord(ch)-65) + (ord(a[count-1])-65))%26\n",
    "    #print(b)\n",
    "    encrypted += chr((b+65))\n",
    "    count+=1\n",
    "  else:\n",
    "    if count == 0:\n",
    "      b = (b + ((ord(ch))-97))%26\n",
    "    else:\n",
    "      b = ((ord(ch)-97) + (ord(a[count-1])-97))%26\n",
    "    #print(b)\n",
    "    encrypted += chr((b+97))\n",
    "    count+=1\n",
    "print(encrypted)\n"
   ]
  },
  {
   "cell_type": "code",
   "execution_count": 2,
   "metadata": {},
   "outputs": [
    {
     "name": "stdout",
     "output_type": "stream",
     "text": [
      "attackistoday\n"
     ]
    }
   ],
   "source": [
    "def decrypt(ciphertext, key):\n",
    "    result = \"\"\n",
    "\n",
    "    for i in range(len(ciphertext)):\n",
    "        char = ciphertext[i]\n",
    "        if char.isalpha():\n",
    "            base = ord('A') if char.isupper() else ord('a')\n",
    "            result += chr((ord(char) - ord(key[i]) + 26) % 26 + base)\n",
    "            key += result[i]\n",
    "        else:\n",
    "            result += char\n",
    "\n",
    "    return result\n",
    "\n",
    "if encrypted[0].isupper():\n",
    "  print(decrypt(encrypted, chr(key+65)))\n",
    "else:\n",
    "  print(decrypt(encrypted, chr(key+97)))"
   ]
  }
 ],
 "metadata": {
  "kernelspec": {
   "display_name": "Python 3",
   "language": "python",
   "name": "python3"
  },
  "language_info": {
   "codemirror_mode": {
    "name": "ipython",
    "version": 3
   },
   "file_extension": ".py",
   "mimetype": "text/x-python",
   "name": "python",
   "nbconvert_exporter": "python",
   "pygments_lexer": "ipython3",
   "version": "3.11.8"
  }
 },
 "nbformat": 4,
 "nbformat_minor": 2
}
