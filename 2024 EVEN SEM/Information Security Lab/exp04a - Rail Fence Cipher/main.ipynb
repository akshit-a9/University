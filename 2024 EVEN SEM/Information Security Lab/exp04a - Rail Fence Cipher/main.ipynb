{
 "cells": [
  {
   "cell_type": "code",
   "execution_count": 1,
   "metadata": {},
   "outputs": [
    {
     "name": "stdout",
     "output_type": "stream",
     "text": [
      "mtaehoptemfregayeetttar\n"
     ]
    }
   ],
   "source": [
    "#encryption\n",
    "\n",
    "a = input(\"Enter the plain text : \")\n",
    "b = int(input(\"Enter the number of rows (max 4) : \"))\n",
    "\n",
    "index = 0\n",
    "\n",
    "for i in range(b):\n",
    "  globals()[f'x{i}'] = \"\"\n",
    "\n",
    "for ch in a:\n",
    "  if index%b == 0:\n",
    "    x0 += ch\n",
    "  elif index%b == 1:\n",
    "    x1 += ch\n",
    "  elif index%b == 2:\n",
    "    x2 += ch\n",
    "  else:\n",
    "    x3 += ch\n",
    "  index +=1\n",
    "\n",
    "if b == 2:\n",
    "  encrypted = x0+x1\n",
    "elif b == 3:\n",
    "  encrypted = x0+x1+x2\n",
    "else:\n",
    "  encrypted = x0+x1+x2+x3\n",
    "\n",
    "print(encrypted)"
   ]
  },
  {
   "cell_type": "code",
   "execution_count": 2,
   "metadata": {},
   "outputs": [
    {
     "name": "stdout",
     "output_type": "stream",
     "text": [
      "The original text was: meetmeafterthetogaparty\n"
     ]
    }
   ],
   "source": [
    "def decrypt(encrypted_text, num_rows):\n",
    "    if num_rows == 1:\n",
    "\n",
    "        return encrypted_text\n",
    "\n",
    "\n",
    "    length = len(encrypted_text)\n",
    "    counts = [0] * num_rows\n",
    "\n",
    "\n",
    "    full_cycles, remainder = divmod(length, num_rows)\n",
    "    for i in range(num_rows):\n",
    "        counts[i] = full_cycles + (1 if i < remainder else 0)\n",
    "\n",
    "\n",
    "    rows = [''] * num_rows\n",
    "    index = 0\n",
    "    for i in range(num_rows):\n",
    "        rows[i] = encrypted_text[index:index + counts[i]]\n",
    "        index += counts[i]\n",
    "\n",
    "    original_text = ''\n",
    "    for i in range(length):\n",
    "        row_index = i % num_rows\n",
    "        original_text += rows[row_index][0]\n",
    "        rows[row_index] = rows[row_index][1:]\n",
    "\n",
    "    return original_text\n",
    "\n",
    "print(\"The original text was:\", decrypt(encrypted, b))"
   ]
  }
 ],
 "metadata": {
  "kernelspec": {
   "display_name": "Python 3",
   "language": "python",
   "name": "python3"
  },
  "language_info": {
   "codemirror_mode": {
    "name": "ipython",
    "version": 3
   },
   "file_extension": ".py",
   "mimetype": "text/x-python",
   "name": "python",
   "nbconvert_exporter": "python",
   "pygments_lexer": "ipython3",
   "version": "3.11.8"
  }
 },
 "nbformat": 4,
 "nbformat_minor": 2
}
