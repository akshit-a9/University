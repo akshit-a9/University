{
 "cells": [
  {
   "cell_type": "code",
   "execution_count": 1,
   "metadata": {},
   "outputs": [
    {
     "name": "stdout",
     "output_type": "stream",
     "text": [
      "Onzshiarosn Mukwhorq Daf\n"
     ]
    }
   ],
   "source": [
    "#Encryption\n",
    "a = input(\"Enter the string : \")\n",
    "b = int(input(\"Enter the key : \"))\n",
    "c = [1, 3, 5, 7, 9, 11, 15, 17, 19, 21, 23, 25]\n",
    "d = [1, 9, 21, 15, 3, 19, 7, 23, 11, 5, 17, 25]\n",
    "\n",
    "if b not in c:\n",
    "  print(\"Key is not in range.\")\n",
    "\n",
    "else:\n",
    "  for i in range(len(c)):\n",
    "    if c[i] == b:\n",
    "      inv = d[i]\n",
    "\n",
    "  encrypted = str()\n",
    "\n",
    "  for ch in a:\n",
    "    # print(ord(ch))\n",
    "    if ch.isspace():\n",
    "      encrypted += ' '\n",
    "      continue\n",
    "    if ch.isupper():\n",
    "      encrypted += chr(((ord(ch)-65)*b)%26 + 65)\n",
    "    else:\n",
    "      encrypted += chr(((ord(ch)-97)*b)%26 + 97)\n",
    "\n",
    "  print(encrypted)"
   ]
  },
  {
   "cell_type": "code",
   "execution_count": 2,
   "metadata": {},
   "outputs": [
    {
     "name": "stdout",
     "output_type": "stream",
     "text": [
      "Information Security Lab\n"
     ]
    }
   ],
   "source": [
    "#Decryption\n",
    "decrypted = str()\n",
    "for ch in encrypted:\n",
    "  # print(ord(ch))\n",
    "  if ch.isspace():\n",
    "    decrypted += ' '\n",
    "    continue\n",
    "  if ch.isupper():\n",
    "    decrypted += chr(((ord(ch)-65)*inv)%26 + 65)\n",
    "  else:\n",
    "    decrypted += chr(((ord(ch)-97)*inv)%26 + 97)\n",
    "\n",
    "print(decrypted)"
   ]
  }
 ],
 "metadata": {
  "kernelspec": {
   "display_name": "Python 3",
   "language": "python",
   "name": "python3"
  },
  "language_info": {
   "codemirror_mode": {
    "name": "ipython",
    "version": 3
   },
   "file_extension": ".py",
   "mimetype": "text/x-python",
   "name": "python",
   "nbconvert_exporter": "python",
   "pygments_lexer": "ipython3",
   "version": "3.11.8"
  }
 },
 "nbformat": 4,
 "nbformat_minor": 2
}
