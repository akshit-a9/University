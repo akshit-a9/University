{
 "cells": [
  {
   "cell_type": "code",
   "execution_count": 1,
   "metadata": {},
   "outputs": [
    {
     "name": "stdout",
     "output_type": "stream",
     "text": [
      "Encrypted data: 1.n¦·\u0019¼Wnv¬¦\n",
      "Decrypted data: examforinfosec\n"
     ]
    }
   ],
   "source": [
    "def RC4(key, data):\n",
    "    S = list(range(256))\n",
    "    j = 0\n",
    "    for i in range(256):\n",
    "        j = (j + S[i] + ord(key[i % len(key)])) % 256\n",
    "        S[i], S[j] = S[j], S[i]\n",
    "\n",
    "    i = j = 0\n",
    "    result = []\n",
    "    for char in data:\n",
    "        i = (i + 1) % 256\n",
    "        j = (j + S[i]) % 256\n",
    "        S[i], S[j] = S[j], S[i]\n",
    "        K = S[(S[i] + S[j]) % 256]\n",
    "        result.append(chr(ord(char) ^ K))\n",
    "    \n",
    "    return ''.join(result)\n",
    "\n",
    "key = input(\"Enter the key: \")\n",
    "data = input(\"Enter the data to encrypt: \")\n",
    "encrypted_data = RC4(key, data)\n",
    "decrypted_data = RC4(key, encrypted_data)\n",
    "print(\"Encrypted data:\", encrypted_data)\n",
    "print(\"Decrypted data:\", decrypted_data)\n"
   ]
  }
 ],
 "metadata": {
  "kernelspec": {
   "display_name": "Python 3",
   "language": "python",
   "name": "python3"
  },
  "language_info": {
   "codemirror_mode": {
    "name": "ipython",
    "version": 3
   },
   "file_extension": ".py",
   "mimetype": "text/x-python",
   "name": "python",
   "nbconvert_exporter": "python",
   "pygments_lexer": "ipython3",
   "version": "3.11.8"
  }
 },
 "nbformat": 4,
 "nbformat_minor": 2
}
