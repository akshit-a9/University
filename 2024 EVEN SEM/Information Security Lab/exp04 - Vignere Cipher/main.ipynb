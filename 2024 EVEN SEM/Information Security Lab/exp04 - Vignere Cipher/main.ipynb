{
 "cells": [
  {
   "cell_type": "code",
   "execution_count": 1,
   "metadata": {},
   "outputs": [
    {
     "name": "stdout",
     "output_type": "stream",
     "text": [
      "Key :  deceptivedeceptivedeceptive\n"
     ]
    }
   ],
   "source": [
    "#Encryption\n",
    "a = input(\"Enter the string : \")\n",
    "b = input(\"Enter the key : \")\n",
    "\n",
    "def repeat_to_length(s, wanted):\n",
    "    return (s * (wanted//len(s) + 1))[:wanted]\n",
    "\n",
    "b = repeat_to_length(b, len(a))\n",
    "\n",
    "print(\"Key : \",b)\n",
    "\n",
    "encrypted = str()\n",
    "\n",
    "index = 0\n",
    "for ch in a:\n",
    "  if ch.isspace():\n",
    "    encrypted += ' '\n",
    "    continue\n",
    "  if ch.isupper():\n",
    "    encrypted += chr(((ord(ch)-65)+(ord(b[index])-65))%26 + 65)\n",
    "  else:\n",
    "    encrypted += chr(((ord(ch)-97)+(ord(b[index])-97))%26 + 97)\n",
    "  index += 1\n"
   ]
  },
  {
   "cell_type": "code",
   "execution_count": 2,
   "metadata": {},
   "outputs": [
    {
     "name": "stdout",
     "output_type": "stream",
     "text": [
      "Cipher Text :  zicvtwqngrzgvtwavzhcqyglmgj\n"
     ]
    }
   ],
   "source": [
    "print(\"Cipher Text : \",encrypted)"
   ]
  },
  {
   "cell_type": "code",
   "execution_count": 3,
   "metadata": {},
   "outputs": [
    {
     "name": "stdout",
     "output_type": "stream",
     "text": [
      "Decrypted Text :  wearediscoveredsaveyourself\n"
     ]
    }
   ],
   "source": [
    "#Decryption\n",
    "decrypted = str()\n",
    "index = 0\n",
    "for ch in encrypted:\n",
    "\n",
    "  if ch.isspace():\n",
    "    decrypted += ' '\n",
    "    continue\n",
    "  if ch.isupper():\n",
    "    decrypted += chr(((ord(ch)-65)-(ord(b[index])-65))%26 + 65)\n",
    "  else:\n",
    "    decrypted += chr(((ord(ch)-97)-(ord(b[index])-97))%26 + 97)\n",
    "  index += 1\n",
    "\n",
    "print(\"Decrypted Text : \",decrypted)"
   ]
  }
 ],
 "metadata": {
  "kernelspec": {
   "display_name": "Python 3",
   "language": "python",
   "name": "python3"
  },
  "language_info": {
   "codemirror_mode": {
    "name": "ipython",
    "version": 3
   },
   "file_extension": ".py",
   "mimetype": "text/x-python",
   "name": "python",
   "nbconvert_exporter": "python",
   "pygments_lexer": "ipython3",
   "version": "3.11.8"
  }
 },
 "nbformat": 4,
 "nbformat_minor": 2
}
