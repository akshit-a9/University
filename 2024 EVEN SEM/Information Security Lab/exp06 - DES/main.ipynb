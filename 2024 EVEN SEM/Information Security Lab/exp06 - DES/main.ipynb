{
 "cells": [
  {
   "cell_type": "code",
   "execution_count": 1,
   "metadata": {},
   "outputs": [
    {
     "name": "stdout",
     "output_type": "stream",
     "text": [
      "Collecting pycryptodomeNote: you may need to restart the kernel to use updated packages.\n",
      "\n",
      "  Downloading pycryptodome-3.20.0-cp35-abi3-win_amd64.whl.metadata (3.4 kB)\n",
      "Downloading pycryptodome-3.20.0-cp35-abi3-win_amd64.whl (1.8 MB)\n",
      "   ---------------------------------------- 0.0/1.8 MB ? eta -:--:--\n",
      "   ---------------------------------------- 0.0/1.8 MB ? eta -:--:--\n",
      "   -- ------------------------------------- 0.1/1.8 MB 1.3 MB/s eta 0:00:02\n",
      "   -------------- ------------------------- 0.6/1.8 MB 5.8 MB/s eta 0:00:01\n",
      "   ---------------------------------------- 1.8/1.8 MB 14.0 MB/s eta 0:00:00\n",
      "Installing collected packages: pycryptodome\n",
      "Successfully installed pycryptodome-3.20.0\n"
     ]
    }
   ],
   "source": [
    "pip install pycryptodome"
   ]
  },
  {
   "cell_type": "code",
   "execution_count": 2,
   "metadata": {},
   "outputs": [
    {
     "name": "stdout",
     "output_type": "stream",
     "text": [
      "Encrypted data: b'+\\x11\\xc0\\x88\\x0b\\x8alD\\x15)\\x15\\x15\\xb6N\\xd5\\x06'\n",
      "Decrypted data: SimranBytes\n"
     ]
    }
   ],
   "source": [
    "from Crypto.Cipher import DES\n",
    "\n",
    "def encrypt_des(key, data):\n",
    "    cipher = DES.new(key, DES.MODE_ECB)\n",
    "    padded_data = pad_data(data)\n",
    "    encrypted_data = cipher.encrypt(padded_data)\n",
    "    return encrypted_data\n",
    "\n",
    "def decrypt_des(key, encrypted_data):\n",
    "    cipher = DES.new(key, DES.MODE_ECB)\n",
    "    decrypted_data = cipher.decrypt(encrypted_data)\n",
    "    unpadded_data = unpad_data(decrypted_data)\n",
    "    return unpadded_data\n",
    "\n",
    "def pad_data(data):\n",
    "    padding_length = 8 - (len(data) % 8)\n",
    "    padded_data = data + bytes([padding_length] * padding_length)\n",
    "    return padded_data\n",
    "\n",
    "def unpad_data(data):\n",
    "    padding_length = data[-1]\n",
    "    unpadded_data = data[:-padding_length]\n",
    "    return unpadded_data\n",
    "\n",
    "key = input(\"Enter the key (must be 8 bytes long): \").encode()\n",
    "data = input(\"Enter the data to encrypt: \").encode()\n",
    "\n",
    "encrypted_data = encrypt_des(key, data)\n",
    "decrypted_data = decrypt_des(key, encrypted_data)\n",
    "\n",
    "print(\"Encrypted data:\", encrypted_data)\n",
    "print(\"Decrypted data:\", decrypted_data.decode())"
   ]
  }
 ],
 "metadata": {
  "kernelspec": {
   "display_name": "Python 3",
   "language": "python",
   "name": "python3"
  },
  "language_info": {
   "codemirror_mode": {
    "name": "ipython",
    "version": 3
   },
   "file_extension": ".py",
   "mimetype": "text/x-python",
   "name": "python",
   "nbconvert_exporter": "python",
   "pygments_lexer": "ipython3",
   "version": "3.11.9"
  }
 },
 "nbformat": 4,
 "nbformat_minor": 2
}
