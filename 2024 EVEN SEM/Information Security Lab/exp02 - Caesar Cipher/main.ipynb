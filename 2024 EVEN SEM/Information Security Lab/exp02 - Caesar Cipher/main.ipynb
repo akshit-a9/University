{
 "cells": [
  {
   "cell_type": "code",
   "execution_count": 1,
   "metadata": {},
   "outputs": [
    {
     "name": "stdout",
     "output_type": "stream",
     "text": [
      "Uzradymfuaz Eqogdufk\n"
     ]
    }
   ],
   "source": [
    "#Encryption\n",
    "a = input(\"Enter the string : \")\n",
    "b = int(input(\"Enter the key : \"))\n",
    "\n",
    "b = b%26\n",
    "\n",
    "encrypted = str()\n",
    "\n",
    "for ch in a:\n",
    "  # print(ord(ch))\n",
    "  if ch.isspace():\n",
    "    encrypted += ' '\n",
    "    continue\n",
    "  if ch.isupper():\n",
    "    encrypted += chr(((ord(ch)-65)+b)%26 + 65)\n",
    "  else:\n",
    "    encrypted += chr(((ord(ch)-97)+b)%26 + 97)\n",
    "\n",
    "print(encrypted)"
   ]
  },
  {
   "cell_type": "code",
   "execution_count": 2,
   "metadata": {},
   "outputs": [
    {
     "name": "stdout",
     "output_type": "stream",
     "text": [
      "Information Security\n"
     ]
    }
   ],
   "source": [
    "#Decryption\n",
    "decrypted = str()\n",
    "for ch in encrypted:\n",
    "  # print(ord(ch))\n",
    "  if ch.isspace():\n",
    "    decrypted += ' '\n",
    "    continue\n",
    "  if ch.isupper():\n",
    "    decrypted += chr(((ord(ch)-65)-b)%26 + 65)\n",
    "  else:\n",
    "    decrypted += chr(((ord(ch)-97)-b)%26 + 97)\n",
    "\n",
    "print(decrypted)"
   ]
  }
 ],
 "metadata": {
  "kernelspec": {
   "display_name": "Python 3",
   "language": "python",
   "name": "python3"
  },
  "language_info": {
   "codemirror_mode": {
    "name": "ipython",
    "version": 3
   },
   "file_extension": ".py",
   "mimetype": "text/x-python",
   "name": "python",
   "nbconvert_exporter": "python",
   "pygments_lexer": "ipython3",
   "version": "3.11.8"
  }
 },
 "nbformat": 4,
 "nbformat_minor": 2
}
